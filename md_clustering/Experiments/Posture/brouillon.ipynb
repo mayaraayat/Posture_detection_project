{
 "cells": [
  {
   "cell_type": "code",
   "execution_count": 1,
   "metadata": {},
   "outputs": [
    {
     "name": "stdout",
     "output_type": "stream",
     "text": [
      "brouillon.ipynb  data  Evaluation.py  main.py\n"
     ]
    }
   ],
   "source": [
    "!ls"
   ]
  },
  {
   "cell_type": "code",
   "execution_count": 14,
   "metadata": {},
   "outputs": [],
   "source": [
    "import os\n",
    "import json \n",
    "import numpy as np \n",
    "import random\n"
   ]
  },
  {
   "cell_type": "code",
   "execution_count": 3,
   "metadata": {},
   "outputs": [],
   "source": [
    "def load_json_data(file_path):\n",
    "    with open(file_path, 'r') as file:\n",
    "        data = json.load(file)\n",
    "    return data\n",
    "\n",
    "def extract_pressure_matrices(json_data):\n",
    "    pressure_matrices = []\n",
    "    for entry in json_data['pressureData']:\n",
    "        pressure_matrix = entry[\"pressureMatrix\"]\n",
    "        pressure_matrices.append({\"pressureMatrix\": pressure_matrix})\n",
    "    return pressure_matrices\n",
    "\n",
    "def extract_features_from_pressure_matrices(pressure_matrices):\n",
    "    flattened_data = [np.array(item[\"pressureMatrix\"]).flatten() for item in pressure_matrices]\n",
    "    return np.concatenate(flattened_data, axis=0)"
   ]
  },
  {
   "cell_type": "code",
   "execution_count": 16,
   "metadata": {},
   "outputs": [],
   "source": [
    "dic = {}\n",
    "lab = {}\n",
    "for i in range(6,9):\n",
    "    folder_path = f'data/Subject_{i}/Posture_data'\n",
    "\n",
    "    # Get all files in the folder\n",
    "    files = [f for f in os.listdir(folder_path) if os.path.isfile(os.path.join(folder_path, f))]\n",
    "    labels = [int(f.split('.')[0][-1])for f in files]\n",
    "    l = []\n",
    "\n",
    "    for f in files:\n",
    "        file_path = os.path.join(folder_path, f)\n",
    "        # Check if the file is a JSON file\n",
    "        if file_path.endswith('.json'):\n",
    "            with open(file_path, 'r') as file:\n",
    "                try:\n",
    "                    data = json.load(file) \n",
    "                    pressure_matrices = extract_pressure_matrices(data)\n",
    "                    features = extract_features_from_pressure_matrices(pressure_matrices)\n",
    "                    l.append(features)\n",
    "                except json.JSONDecodeError as e:\n",
    "                    print(f\"Error decoding JSON in file {file_path}: {e}\")\n",
    "        else:\n",
    "            print(f\"Skipping non-JSON file: {file_path}\")\n",
    "     \n",
    "    num = list(range(7))\n",
    "    random.shuffle(num)\n",
    "    \n",
    "    dic[i] = [l[j] for j in num]\n",
    "    lab[i] = [labels[j] for j in num]\n"
   ]
  },
  {
   "cell_type": "code",
   "execution_count": 17,
   "metadata": {},
   "outputs": [
    {
     "data": {
      "text/plain": [
       "{6: [array([193., 107., 293., ...,   4.,   3.,   2.]),\n",
       "  array([4., 4., 4., ..., 3., 0., 0.]),\n",
       "  array([ 86., 114., 127., ..., 192.,   5.,   2.]),\n",
       "  array([14., 11., 20., ...,  3.,  0.,  0.]),\n",
       "  array([ 33.,  97., 111., ..., 358.,  30.,  23.]),\n",
       "  array([  7.,  26., 225., ...,   2.,   0.,   2.]),\n",
       "  array([3., 3., 3., ..., 3., 2., 0.])],\n",
       " 7: [array([ 10., 270., 379., ...,   2.,   0.,   0.]),\n",
       "  array([131., 187., 160., ...,   3.,   2.,   0.]),\n",
       "  array([278., 292., 326., ...,   0.,   0.,   0.]),\n",
       "  array([4., 7., 8., ..., 2., 0., 0.]),\n",
       "  array([ 13., 222., 304., ...,   9.,   4.,   0.]),\n",
       "  array([388., 401., 411., ...,   0.,   0.,   0.]),\n",
       "  array([ 8.,  8.,  8., ..., 43.,  8.,  2.])],\n",
       " 8: [array([  0.,   2.,   4., ..., 234., 184., 185.]),\n",
       "  array([  6.,  13., 124., ...,  11.,   8.,   5.]),\n",
       "  array([  7.,  10.,  16., ..., 212., 147., 131.]),\n",
       "  array([ 10.,  12., 177., ...,   8.,   6.,   7.]),\n",
       "  array([  4.,   4.,  12., ..., 164.,  49.,  24.]),\n",
       "  array([ 13.,   8., 100., ..., 184.,  48.,  24.]),\n",
       "  array([2., 6., 9., ..., 9., 4., 5.])],\n",
       " 9: [array([ 28.,  84., 214., ..., 652., 263.,   6.]),\n",
       "  array([  7.,  16.,  12., ..., 238.,  15.,   3.]),\n",
       "  array([ 28.,  35.,  85., ..., 348.,  21.,   2.]),\n",
       "  array([ 34.,  81., 153., ...,  11.,   4.,   2.]),\n",
       "  array([ 90., 409., 201., ..., 615., 219.,   5.]),\n",
       "  array([ 40., 109.,  42., ..., 259.,  37.,   8.]),\n",
       "  array([11., 29.,  9., ..., 26.,  6.,  3.])]}"
      ]
     },
     "execution_count": 17,
     "metadata": {},
     "output_type": "execute_result"
    }
   ],
   "source": [
    "dic"
   ]
  },
  {
   "cell_type": "code",
   "execution_count": 21,
   "metadata": {},
   "outputs": [],
   "source": [
    "import pickle\n",
    "with open ('Results/features_dic.pkl','rb') as file:\n",
    "    dic = pickle.load(file)\n",
    "\n",
    "with open ('Results/labels_dic.pkl','rb') as file:\n",
    "    lab = pickle.load(file)  \n",
    "features=list(dic.values())\n",
    "\n",
    "labels = list(lab.values())"
   ]
  },
  {
   "cell_type": "code",
   "execution_count": 22,
   "metadata": {},
   "outputs": [
    {
     "ename": "AxisError",
     "evalue": "axis 1 is out of bounds for array of dimension 1",
     "output_type": "error",
     "traceback": [
      "\u001b[0;31m---------------------------------------------------------------------------\u001b[0m",
      "\u001b[0;31mAxisError\u001b[0m                                 Traceback (most recent call last)",
      "Cell \u001b[0;32mIn[22], line 7\u001b[0m\n\u001b[1;32m      5\u001b[0m     \u001b[38;5;66;03m# Convert each one-hot encoded array to labels and append them to the list\u001b[39;00m\n\u001b[1;32m      6\u001b[0m \u001b[38;5;28;01mfor\u001b[39;00m array \u001b[38;5;129;01min\u001b[39;00m alllabels:\n\u001b[0;32m----> 7\u001b[0m     labels \u001b[38;5;241m=\u001b[39m \u001b[43mnp\u001b[49m\u001b[38;5;241;43m.\u001b[39;49m\u001b[43margmax\u001b[49m\u001b[43m(\u001b[49m\u001b[43marray\u001b[49m\u001b[43m,\u001b[49m\u001b[43m \u001b[49m\u001b[43maxis\u001b[49m\u001b[38;5;241;43m=\u001b[39;49m\u001b[38;5;241;43m1\u001b[39;49m\u001b[43m)\u001b[49m\n\u001b[1;32m      8\u001b[0m     ylabels1\u001b[38;5;241m.\u001b[39mappend(labels)\n",
      "File \u001b[0;32m<__array_function__ internals>:200\u001b[0m, in \u001b[0;36margmax\u001b[0;34m(*args, **kwargs)\u001b[0m\n",
      "File \u001b[0;32m~/.local/lib/python3.8/site-packages/numpy/core/fromnumeric.py:1242\u001b[0m, in \u001b[0;36margmax\u001b[0;34m(a, axis, out, keepdims)\u001b[0m\n\u001b[1;32m   1155\u001b[0m \u001b[38;5;250m\u001b[39m\u001b[38;5;124;03m\"\"\"\u001b[39;00m\n\u001b[1;32m   1156\u001b[0m \u001b[38;5;124;03mReturns the indices of the maximum values along an axis.\u001b[39;00m\n\u001b[1;32m   1157\u001b[0m \n\u001b[0;32m   (...)\u001b[0m\n\u001b[1;32m   1239\u001b[0m \u001b[38;5;124;03m(2, 1, 4)\u001b[39;00m\n\u001b[1;32m   1240\u001b[0m \u001b[38;5;124;03m\"\"\"\u001b[39;00m\n\u001b[1;32m   1241\u001b[0m kwds \u001b[38;5;241m=\u001b[39m {\u001b[38;5;124m'\u001b[39m\u001b[38;5;124mkeepdims\u001b[39m\u001b[38;5;124m'\u001b[39m: keepdims} \u001b[38;5;28;01mif\u001b[39;00m keepdims \u001b[38;5;129;01mis\u001b[39;00m \u001b[38;5;129;01mnot\u001b[39;00m np\u001b[38;5;241m.\u001b[39m_NoValue \u001b[38;5;28;01melse\u001b[39;00m {}\n\u001b[0;32m-> 1242\u001b[0m \u001b[38;5;28;01mreturn\u001b[39;00m \u001b[43m_wrapfunc\u001b[49m\u001b[43m(\u001b[49m\u001b[43ma\u001b[49m\u001b[43m,\u001b[49m\u001b[43m \u001b[49m\u001b[38;5;124;43m'\u001b[39;49m\u001b[38;5;124;43margmax\u001b[39;49m\u001b[38;5;124;43m'\u001b[39;49m\u001b[43m,\u001b[49m\u001b[43m \u001b[49m\u001b[43maxis\u001b[49m\u001b[38;5;241;43m=\u001b[39;49m\u001b[43maxis\u001b[49m\u001b[43m,\u001b[49m\u001b[43m \u001b[49m\u001b[43mout\u001b[49m\u001b[38;5;241;43m=\u001b[39;49m\u001b[43mout\u001b[49m\u001b[43m,\u001b[49m\u001b[43m \u001b[49m\u001b[38;5;241;43m*\u001b[39;49m\u001b[38;5;241;43m*\u001b[39;49m\u001b[43mkwds\u001b[49m\u001b[43m)\u001b[49m\n",
      "File \u001b[0;32m~/.local/lib/python3.8/site-packages/numpy/core/fromnumeric.py:54\u001b[0m, in \u001b[0;36m_wrapfunc\u001b[0;34m(obj, method, *args, **kwds)\u001b[0m\n\u001b[1;32m     52\u001b[0m bound \u001b[38;5;241m=\u001b[39m \u001b[38;5;28mgetattr\u001b[39m(obj, method, \u001b[38;5;28;01mNone\u001b[39;00m)\n\u001b[1;32m     53\u001b[0m \u001b[38;5;28;01mif\u001b[39;00m bound \u001b[38;5;129;01mis\u001b[39;00m \u001b[38;5;28;01mNone\u001b[39;00m:\n\u001b[0;32m---> 54\u001b[0m     \u001b[38;5;28;01mreturn\u001b[39;00m \u001b[43m_wrapit\u001b[49m\u001b[43m(\u001b[49m\u001b[43mobj\u001b[49m\u001b[43m,\u001b[49m\u001b[43m \u001b[49m\u001b[43mmethod\u001b[49m\u001b[43m,\u001b[49m\u001b[43m \u001b[49m\u001b[38;5;241;43m*\u001b[39;49m\u001b[43margs\u001b[49m\u001b[43m,\u001b[49m\u001b[43m \u001b[49m\u001b[38;5;241;43m*\u001b[39;49m\u001b[38;5;241;43m*\u001b[39;49m\u001b[43mkwds\u001b[49m\u001b[43m)\u001b[49m\n\u001b[1;32m     56\u001b[0m \u001b[38;5;28;01mtry\u001b[39;00m:\n\u001b[1;32m     57\u001b[0m     \u001b[38;5;28;01mreturn\u001b[39;00m bound(\u001b[38;5;241m*\u001b[39margs, \u001b[38;5;241m*\u001b[39m\u001b[38;5;241m*\u001b[39mkwds)\n",
      "File \u001b[0;32m~/.local/lib/python3.8/site-packages/numpy/core/fromnumeric.py:43\u001b[0m, in \u001b[0;36m_wrapit\u001b[0;34m(obj, method, *args, **kwds)\u001b[0m\n\u001b[1;32m     41\u001b[0m \u001b[38;5;28;01mexcept\u001b[39;00m \u001b[38;5;167;01mAttributeError\u001b[39;00m:\n\u001b[1;32m     42\u001b[0m     wrap \u001b[38;5;241m=\u001b[39m \u001b[38;5;28;01mNone\u001b[39;00m\n\u001b[0;32m---> 43\u001b[0m result \u001b[38;5;241m=\u001b[39m \u001b[38;5;28;43mgetattr\u001b[39;49m\u001b[43m(\u001b[49m\u001b[43masarray\u001b[49m\u001b[43m(\u001b[49m\u001b[43mobj\u001b[49m\u001b[43m)\u001b[49m\u001b[43m,\u001b[49m\u001b[43m \u001b[49m\u001b[43mmethod\u001b[49m\u001b[43m)\u001b[49m\u001b[43m(\u001b[49m\u001b[38;5;241;43m*\u001b[39;49m\u001b[43margs\u001b[49m\u001b[43m,\u001b[49m\u001b[43m \u001b[49m\u001b[38;5;241;43m*\u001b[39;49m\u001b[38;5;241;43m*\u001b[39;49m\u001b[43mkwds\u001b[49m\u001b[43m)\u001b[49m\n\u001b[1;32m     44\u001b[0m \u001b[38;5;28;01mif\u001b[39;00m wrap:\n\u001b[1;32m     45\u001b[0m     \u001b[38;5;28;01mif\u001b[39;00m \u001b[38;5;129;01mnot\u001b[39;00m \u001b[38;5;28misinstance\u001b[39m(result, mu\u001b[38;5;241m.\u001b[39mndarray):\n",
      "\u001b[0;31mAxisError\u001b[0m: axis 1 is out of bounds for array of dimension 1"
     ]
    }
   ],
   "source": [
    "alllabels = [labels[-1], labels[0],labels[1]]\n",
    "\n",
    "ylabels1 = []\n",
    "\n",
    "    # Convert each one-hot encoded array to labels and append them to the list\n",
    "for array in alllabels:\n",
    "    labels = np.argmax(array, axis=1)\n",
    "    ylabels1.append(labels)"
   ]
  },
  {
   "cell_type": "code",
   "execution_count": 4,
   "metadata": {},
   "outputs": [
    {
     "data": {
      "text/plain": [
       "[array([[193., 107., 293., ...,   4.,   2.,   0.],\n",
       "        [191., 106., 294., ...,   4.,   2.,   2.],\n",
       "        [191., 106., 293., ...,   4.,   2.,   0.],\n",
       "        ...,\n",
       "        [ 88., 113., 128., ..., 194.,   6.,   3.],\n",
       "        [ 86., 113., 129., ..., 194.,   5.,   2.],\n",
       "        [ 88., 112., 127., ..., 192.,   5.,   2.]]),\n",
       " array([[  8.,   8.,   8., ...,  25.,   7.,   2.],\n",
       "        [  8.,   7.,   8., ...,  28.,   6.,   3.],\n",
       "        [  8.,   8.,   8., ...,  28.,   6.,   0.],\n",
       "        ...,\n",
       "        [283., 292., 326., ...,   2.,   0.,   0.],\n",
       "        [282., 292., 324., ...,   2.,   0.,   0.],\n",
       "        [282., 291., 324., ...,   0.,   0.,   0.]]),\n",
       " array([[  4.,   4.,  12., ..., 162.,  45.,  24.],\n",
       "        [  4.,   4.,  12., ..., 162.,  46.,  23.],\n",
       "        [  4.,   4.,  12., ..., 162.,  47.,  24.],\n",
       "        ...,\n",
       "        [  2.,   6.,   8., ...,  10.,   5.,   6.],\n",
       "        [  2.,   6.,   9., ...,  10.,   5.,   5.],\n",
       "        [  2.,   6.,   9., ...,   9.,   4.,   5.]])]"
      ]
     },
     "execution_count": 4,
     "metadata": {},
     "output_type": "execute_result"
    }
   ],
   "source": [
    "features"
   ]
  },
  {
   "cell_type": "code",
   "execution_count": 5,
   "metadata": {},
   "outputs": [],
   "source": [
    "import torch\n",
    "data_list = features\n",
    "alldata = []\n",
    "for array in data_list:\n",
    "    tensor = torch.from_numpy(array)\n",
    "\n",
    "    alldata.append(tensor)"
   ]
  },
  {
   "cell_type": "code",
   "execution_count": 6,
   "metadata": {},
   "outputs": [
    {
     "data": {
      "text/plain": [
       "[tensor([[193., 107., 293.,  ...,   4.,   2.,   0.],\n",
       "         [191., 106., 294.,  ...,   4.,   2.,   2.],\n",
       "         [191., 106., 293.,  ...,   4.,   2.,   0.],\n",
       "         ...,\n",
       "         [ 88., 113., 128.,  ..., 194.,   6.,   3.],\n",
       "         [ 86., 113., 129.,  ..., 194.,   5.,   2.],\n",
       "         [ 88., 112., 127.,  ..., 192.,   5.,   2.]], dtype=torch.float64),\n",
       " tensor([[  8.,   8.,   8.,  ...,  25.,   7.,   2.],\n",
       "         [  8.,   7.,   8.,  ...,  28.,   6.,   3.],\n",
       "         [  8.,   8.,   8.,  ...,  28.,   6.,   0.],\n",
       "         ...,\n",
       "         [283., 292., 326.,  ...,   2.,   0.,   0.],\n",
       "         [282., 292., 324.,  ...,   2.,   0.,   0.],\n",
       "         [282., 291., 324.,  ...,   0.,   0.,   0.]], dtype=torch.float64),\n",
       " tensor([[  4.,   4.,  12.,  ..., 162.,  45.,  24.],\n",
       "         [  4.,   4.,  12.,  ..., 162.,  46.,  23.],\n",
       "         [  4.,   4.,  12.,  ..., 162.,  47.,  24.],\n",
       "         ...,\n",
       "         [  2.,   6.,   8.,  ...,  10.,   5.,   6.],\n",
       "         [  2.,   6.,   9.,  ...,  10.,   5.,   5.],\n",
       "         [  2.,   6.,   9.,  ...,   9.,   4.,   5.]], dtype=torch.float64)]"
      ]
     },
     "execution_count": 6,
     "metadata": {},
     "output_type": "execute_result"
    }
   ],
   "source": [
    "alldata"
   ]
  },
  {
   "cell_type": "code",
   "execution_count": 16,
   "metadata": {},
   "outputs": [],
   "source": [
    "import numpy as np\n",
    "features31=np.load('Data/resnet50-all--modern_office31.npy', allow_pickle=True)\n",
    "\n",
    "labels31 = np.load('Data/labels-resnet50-all--modern_office31.npy', allow_pickle=True)\n"
   ]
  },
  {
   "cell_type": "code",
   "execution_count": 17,
   "metadata": {},
   "outputs": [
    {
     "name": "stdout",
     "output_type": "stream",
     "text": [
      "496\n"
     ]
    }
   ],
   "source": [
    "print(len(features31[0]))"
   ]
  },
  {
   "cell_type": "code",
   "execution_count": 20,
   "metadata": {},
   "outputs": [
    {
     "data": {
      "text/plain": [
       "4104"
      ]
     },
     "execution_count": 20,
     "metadata": {},
     "output_type": "execute_result"
    }
   ],
   "source": [
    "len(labels31)"
   ]
  },
  {
   "cell_type": "code",
   "execution_count": 19,
   "metadata": {},
   "outputs": [
    {
     "name": "stdout",
     "output_type": "stream",
     "text": [
      "496\n",
      "793\n",
      "2815\n"
     ]
    }
   ],
   "source": [
    "data_list = features31.tolist()\n",
    "alldata = []\n",
    "for array in data_list:\n",
    "    tensor = torch.from_numpy(array)\n",
    "\n",
    "    alldata.append(tensor)\n",
    "for i in range(len(alldata)):\n",
    "    print(len(alldata[i]))\n",
    "alllabels = [labels31[len(alldata[1]):3608], labels31[:len(alldata[0])]]\n",
    "ylabels1 = []\n",
    "\n",
    "    # Convert each one-hot encoded array to labels and append them to the list\n",
    "for array in alllabels:\n",
    "    labelss = np.argmax(array, axis=1)\n",
    "    ylabels1.append(labelss)\n",
    "alllabels = ylabels1"
   ]
  },
  {
   "cell_type": "code",
   "execution_count": 11,
   "metadata": {},
   "outputs": [
    {
     "data": {
      "text/plain": [
       "[array([15, 15, 15, ...,  4,  4,  4]),\n",
       " array([ 0,  0,  0,  0,  0,  0,  0,  0,  0,  0,  1,  1,  1,  1,  1,  1,  1,\n",
       "         1,  1,  1,  1,  1,  1,  1,  1,  1,  2,  2,  2,  2,  2,  2,  2,  2,\n",
       "         2,  3,  3,  3,  3,  3,  3,  3,  3,  3,  3,  3,  3,  4,  4,  4,  4,\n",
       "         4,  4,  4,  4,  4,  4,  4,  4,  5,  5,  5,  5,  5,  5,  5,  5,  5,\n",
       "         5,  5,  6,  6,  6,  6,  6,  6,  6,  6,  6,  7,  7,  7,  7,  7,  7,\n",
       "         7,  7,  7,  7,  7,  7,  8,  8,  8,  8,  8,  8,  8,  8,  8,  8,  8,\n",
       "         8,  9,  9,  9,  9,  9,  9, 10, 10, 10, 10, 10, 10, 10, 10, 10, 11,\n",
       "        11, 11, 11, 11, 11, 11, 11, 11, 11, 11, 11, 11, 11, 11, 11, 11, 11,\n",
       "        12, 12, 12, 12, 12, 12, 12, 12, 13, 13, 13, 13, 13, 13, 13, 13, 13,\n",
       "        13, 13, 13, 13, 13, 13, 13, 13, 13, 13, 14, 14, 14, 14, 14, 14, 14,\n",
       "        14, 14, 14, 14, 14, 14, 14, 14, 14, 14, 14, 14, 14, 15, 15, 15, 15,\n",
       "        15, 15, 15, 15, 15, 15, 15, 15, 15, 15, 16, 16, 16, 16, 16, 16, 16,\n",
       "        16, 16, 17, 17, 17, 17, 17, 17, 17, 17, 17, 17, 17, 17, 17, 17, 17,\n",
       "        17, 17, 18, 18, 18, 18, 18, 18, 18, 18, 18, 18, 19, 19, 19, 19, 19,\n",
       "        20, 20, 20, 20, 20, 20, 20, 20, 20, 20, 20, 20, 20, 20, 20, 20, 20,\n",
       "        20, 20, 20, 20, 20, 20, 20, 21, 21, 21, 21, 21, 21, 21, 21, 21, 21,\n",
       "        21, 21, 22, 22, 22, 22, 22, 22, 22, 22, 23, 23, 23, 23, 23, 23, 23,\n",
       "        23, 24, 24, 24, 24, 24, 24, 24, 24, 24, 24, 24, 24, 24, 24, 25, 25,\n",
       "        25, 25, 25, 25, 25, 25, 26, 26, 26, 26, 26, 26, 26, 26, 26, 26, 26,\n",
       "        26, 27, 27, 27, 27, 27, 27, 27, 27, 27, 27, 27, 27, 27, 27, 27, 27,\n",
       "        27, 27, 27, 28, 28, 28, 28, 28, 28, 28, 28, 28, 28, 28, 28, 28, 28,\n",
       "        28, 28, 28, 29, 29, 29, 29, 29, 29, 29, 29, 29, 29, 30, 30, 30, 30,\n",
       "        30, 30, 30, 30, 30, 30, 30, 30, 30, 30, 30,  0,  0,  0,  1,  1,  1,\n",
       "         1,  1,  2,  2,  2,  3,  3,  3,  4,  4,  4,  4,  5,  5,  5,  6,  6,\n",
       "         6,  7,  7,  7,  8,  8,  8,  8,  9,  9, 10, 10, 10, 11, 11, 11, 11,\n",
       "        11, 12, 12, 13, 13, 13, 13, 13, 14, 14, 14, 14, 14, 14, 15, 15, 15,\n",
       "        15, 16, 16, 16, 17, 17, 17, 17, 17, 18, 18, 18, 19, 19, 20, 20, 20,\n",
       "        20, 20, 20, 20, 21, 21, 21, 22, 22, 23, 23, 24, 24, 24, 24, 25, 25,\n",
       "        26, 26, 26, 27, 27, 27, 27, 27, 28, 28, 28, 28, 28, 29, 29, 29, 30,\n",
       "        30, 30, 30])]"
      ]
     },
     "execution_count": 11,
     "metadata": {},
     "output_type": "execute_result"
    }
   ],
   "source": [
    "alllabels"
   ]
  },
  {
   "cell_type": "code",
   "execution_count": 2,
   "metadata": {},
   "outputs": [],
   "source": [
    "import numpy as np\n",
    "\n",
    "labels = np.load('Data/labels-resnet50-all--modern_office31.npy')"
   ]
  },
  {
   "cell_type": "code",
   "execution_count": 4,
   "metadata": {},
   "outputs": [
    {
     "data": {
      "text/plain": [
       "(4104, 31)"
      ]
     },
     "execution_count": 4,
     "metadata": {},
     "output_type": "execute_result"
    }
   ],
   "source": [
    "labels.shape"
   ]
  },
  {
   "cell_type": "code",
   "execution_count": 10,
   "metadata": {},
   "outputs": [],
   "source": [
    "import pickle \n",
    "\n",
    "with open('Results/labels_dic.pkl', 'rb') as f:\n",
    "    lab = pickle.load(f)"
   ]
  },
  {
   "cell_type": "code",
   "execution_count": 20,
   "metadata": {},
   "outputs": [
    {
     "data": {
      "text/plain": [
       "(4104, 31)"
      ]
     },
     "execution_count": 20,
     "metadata": {},
     "output_type": "execute_result"
    }
   ],
   "source": [
    "labels.shape"
   ]
  },
  {
   "cell_type": "code",
   "execution_count": 12,
   "metadata": {},
   "outputs": [
    {
     "data": {
      "text/plain": [
       "array([[1., 0., 0., ..., 0., 0., 0.],\n",
       "       [1., 0., 0., ..., 0., 0., 0.],\n",
       "       [1., 0., 0., ..., 0., 0., 0.],\n",
       "       ...,\n",
       "       [0., 0., 0., ..., 0., 0., 1.],\n",
       "       [0., 0., 0., ..., 0., 0., 1.],\n",
       "       [0., 0., 0., ..., 0., 0., 1.]])"
      ]
     },
     "execution_count": 12,
     "metadata": {},
     "output_type": "execute_result"
    }
   ],
   "source": [
    "labels"
   ]
  },
  {
   "cell_type": "code",
   "execution_count": 43,
   "metadata": {},
   "outputs": [
    {
     "name": "stdout",
     "output_type": "stream",
     "text": [
      "3\n"
     ]
    },
    {
     "data": {
      "text/plain": [
       "[array([15, 15, 15, ...,  4,  4,  4]),\n",
       " array([ 0,  0,  0,  0,  0,  0,  0,  0,  0,  0,  1,  1,  1,  1,  1,  1,  1,\n",
       "         1,  1,  1,  1,  1,  1,  1,  1,  1,  2,  2,  2,  2,  2,  2,  2,  2,\n",
       "         2,  3,  3,  3,  3,  3,  3,  3,  3,  3,  3,  3,  3,  4,  4,  4,  4,\n",
       "         4,  4,  4,  4,  4,  4,  4,  4,  5,  5,  5,  5,  5,  5,  5,  5,  5,\n",
       "         5,  5,  6,  6,  6,  6,  6,  6,  6,  6,  6,  7,  7,  7,  7,  7,  7,\n",
       "         7,  7,  7,  7,  7,  7,  8,  8,  8,  8,  8,  8,  8,  8,  8,  8,  8,\n",
       "         8,  9,  9,  9,  9,  9,  9, 10, 10, 10, 10, 10, 10, 10, 10, 10, 11,\n",
       "        11, 11, 11, 11, 11, 11, 11, 11, 11, 11, 11, 11, 11, 11, 11, 11, 11,\n",
       "        12, 12, 12, 12, 12, 12, 12, 12, 13, 13, 13, 13, 13, 13, 13, 13, 13,\n",
       "        13, 13, 13, 13, 13, 13, 13, 13, 13, 13, 14, 14, 14, 14, 14, 14, 14,\n",
       "        14, 14, 14, 14, 14, 14, 14, 14, 14, 14, 14, 14, 14, 15, 15, 15, 15,\n",
       "        15, 15, 15, 15, 15, 15, 15, 15, 15, 15, 16, 16, 16, 16, 16, 16, 16,\n",
       "        16, 16, 17, 17, 17, 17, 17, 17, 17, 17, 17, 17, 17, 17, 17, 17, 17,\n",
       "        17, 17, 18, 18, 18, 18, 18, 18, 18, 18, 18, 18, 19, 19, 19, 19, 19,\n",
       "        20, 20, 20, 20, 20, 20, 20, 20, 20, 20, 20, 20, 20, 20, 20, 20, 20,\n",
       "        20, 20, 20, 20, 20, 20, 20, 21, 21, 21, 21, 21, 21, 21, 21, 21, 21,\n",
       "        21, 21, 22, 22, 22, 22, 22, 22, 22, 22, 23, 23, 23, 23, 23, 23, 23,\n",
       "        23, 24, 24, 24, 24, 24, 24, 24, 24, 24, 24, 24, 24, 24, 24, 25, 25,\n",
       "        25, 25, 25, 25, 25, 25, 26, 26, 26, 26, 26, 26, 26, 26, 26, 26, 26,\n",
       "        26, 27, 27, 27, 27, 27, 27, 27, 27, 27, 27, 27, 27, 27, 27, 27, 27,\n",
       "        27, 27, 27, 28, 28, 28, 28, 28, 28, 28, 28, 28, 28, 28, 28, 28, 28,\n",
       "        28, 28, 28, 29, 29, 29, 29, 29, 29, 29, 29, 29, 29, 30, 30, 30, 30,\n",
       "        30, 30, 30, 30, 30, 30, 30, 30, 30, 30, 30,  0,  0,  0,  1,  1,  1,\n",
       "         1,  1,  2,  2,  2,  3,  3,  3,  4,  4,  4,  4,  5,  5,  5,  6,  6,\n",
       "         6,  7,  7,  7,  8,  8,  8,  8,  9,  9, 10, 10, 10, 11, 11, 11, 11,\n",
       "        11, 12, 12, 13, 13, 13, 13, 13, 14, 14, 14, 14, 14, 14, 15, 15, 15,\n",
       "        15, 16, 16, 16, 17, 17, 17, 17, 17, 18, 18, 18, 19, 19, 20, 20, 20,\n",
       "        20, 20, 20, 20, 21, 21, 21, 22, 22, 23, 23, 24, 24, 24, 24, 25, 25,\n",
       "        26, 26, 26, 27, 27, 27, 27, 27, 28, 28, 28, 28, 28, 29, 29, 29, 30,\n",
       "        30, 30, 30]),\n",
       " array([ 0,  0,  0,  0,  0,  0,  0,  0,  0,  0,  0,  0,  0,  0,  0,  0,  0,\n",
       "         0,  0,  0,  0,  1,  1,  1,  1,  1,  1,  1,  1,  1,  1,  1,  1,  1,\n",
       "         1,  1,  1,  2,  2,  2,  2,  2,  2,  2,  2,  2,  2,  2,  2,  2,  2,\n",
       "         2,  2,  2,  2,  2,  2,  2,  2,  2,  2,  3,  3,  3,  3,  3,  3,  3,\n",
       "         3,  3,  3,  3,  3,  3,  3,  3,  4,  4,  4,  4,  4,  4,  4,  4,  4,\n",
       "         4,  4,  4,  5,  5,  5,  5,  5,  5,  5,  5,  5,  5,  5,  5,  5,  5,\n",
       "         6,  6,  6,  6,  6,  6,  6,  6,  6,  6,  6,  6,  6,  6,  6,  6,  6,\n",
       "         6,  6,  6,  6,  6,  6,  7,  7,  7,  7,  7,  7,  7,  7,  7,  7,  7,\n",
       "         7,  7,  7,  7,  7,  8,  8,  8,  8,  8,  8,  8,  8,  8,  8,  8,  8,\n",
       "         8,  8,  8,  9,  9,  9,  9,  9,  9,  9,  9,  9,  9,  9,  9,  9,  9,\n",
       "         9,  9,  9,  9,  9,  9,  9, 10, 10, 10, 10, 10, 10, 10, 10, 10, 11,\n",
       "        11, 11, 11, 11, 11, 11, 11, 11, 11, 11, 11, 11, 11, 11, 11, 11, 11,\n",
       "        11, 11, 11, 11, 11, 11, 12, 12, 12, 12, 12, 12, 12, 12, 12, 12, 12,\n",
       "        12, 12, 12, 12, 12, 12, 12, 12, 12, 12, 12, 12, 12, 12, 13, 13, 13,\n",
       "        13, 13, 13, 13, 13, 13, 13, 13, 13, 13, 13, 13, 13, 13, 13, 13, 13,\n",
       "        13, 13, 13, 13, 14, 14, 14, 14, 14, 14, 14, 14, 14, 14, 14, 14, 14,\n",
       "        14, 14, 14, 14, 14, 14, 14, 14, 14, 14, 14, 15, 15, 15, 15, 15, 15,\n",
       "        15, 15, 15, 15, 15, 15, 15, 15, 15, 15, 15, 15, 15, 15, 15, 16, 16,\n",
       "        16, 16, 16, 16, 16, 16, 16, 16, 16, 16, 16, 16, 16, 16, 16, 16, 16,\n",
       "        16, 16, 16, 16, 16, 17, 17, 17, 17, 17, 17, 17, 17, 17, 17, 17, 17,\n",
       "        17, 17, 17, 17, 17, 17, 18, 18, 18, 18, 18, 18, 18, 18, 18, 18, 18,\n",
       "        18, 19, 19, 19, 19, 19, 19, 19, 19, 20, 20, 20, 20, 20, 20, 20, 20,\n",
       "        20, 20, 20, 20, 20, 20, 20, 20, 20, 20, 20, 20, 20, 20, 20, 20, 21,\n",
       "        21, 21, 21, 21, 21, 21, 21, 21, 21, 21, 21, 21, 21, 21, 21, 22, 22,\n",
       "        22, 22, 22, 22, 22, 22, 22, 22, 22, 22, 22, 22, 22, 22, 22, 22, 22,\n",
       "        22, 22, 22, 23, 23, 23, 23, 23, 23, 23, 23, 23, 23, 23, 23, 23, 23,\n",
       "        23, 23, 23, 23, 23, 23, 23, 23, 23, 23, 23, 23, 23, 23, 23, 23, 23,\n",
       "        23, 24, 24, 24, 24, 24, 24, 24, 24, 24, 24, 24, 24, 24, 24, 24, 24,\n",
       "        24, 24, 24, 24, 25, 25, 25, 25, 25, 25, 25, 25, 25, 25, 25, 25, 25,\n",
       "        25, 25, 25, 25, 25, 25, 25, 25, 26, 26, 26, 26, 26, 26, 26, 26, 26,\n",
       "        26, 26, 26, 26, 26, 26, 26, 27, 27, 27, 27, 27, 27, 27, 27, 27, 27,\n",
       "        27, 27, 27, 27, 27, 27, 27, 27, 27, 27, 27, 27, 28, 28, 28, 28, 28,\n",
       "        28, 28, 28, 28, 28, 28, 28, 28, 28, 28, 28, 28, 28, 28, 28, 28, 28,\n",
       "        28, 28, 28, 28, 28, 28, 28, 28, 28, 28, 28, 28, 29, 29, 29, 29, 29,\n",
       "        29, 29, 29, 29, 29, 29, 29, 29, 29, 29, 29, 29, 29, 29, 29, 29, 29,\n",
       "        29, 29, 29, 29, 29, 29, 29, 29, 29, 29, 30, 30, 30, 30, 30, 30, 30,\n",
       "        30, 30, 30, 30, 30, 30, 30, 30, 30, 30, 30,  0,  0,  0,  0,  0,  0,\n",
       "         1,  1,  1,  1,  1,  2,  2,  2,  2,  2,  2,  3,  3,  3,  3,  4,  4,\n",
       "         4,  4,  5,  5,  5,  5,  6,  6,  6,  6,  6,  6,  7,  7,  7,  7,  7,\n",
       "         8,  8,  8,  8,  9,  9,  9,  9,  9,  9, 10, 10, 10, 11, 11, 11, 11,\n",
       "        11, 11, 12, 12, 12, 12, 12, 12, 12, 13, 13, 13, 13, 13, 13, 14, 14,\n",
       "        14, 14, 14, 14, 15, 15, 15, 15, 15, 15, 16, 16, 16, 16, 16, 16, 16,\n",
       "        17, 17, 17, 17, 17, 18, 18, 18, 18, 19, 19, 19, 20, 20, 20, 20, 20,\n",
       "        20, 21, 21, 21, 21, 22, 22, 22, 22, 22, 22, 23, 23, 23, 23, 23, 23,\n",
       "        23, 23, 24, 24, 24, 24, 24, 25, 25, 25, 25, 25, 25, 26, 26, 26, 26,\n",
       "        26, 27, 27, 27, 27, 27, 27, 28, 28, 28, 28, 28, 28, 28, 28, 28, 29,\n",
       "        29, 29, 29, 29, 29, 29, 29, 30, 30, 30, 30])]"
      ]
     },
     "execution_count": 43,
     "metadata": {},
     "output_type": "execute_result"
    }
   ],
   "source": [
    "import torch\n",
    "features = np.load('Data/resnet50-all--modern_office31.npy', allow_pickle=True)\n",
    "\n",
    "data_list = features.tolist()\n",
    "alldata = []\n",
    "for array in data_list:\n",
    "    tensor = torch.from_numpy(array)\n",
    "    alldata.append(tensor)\n",
    "print(len(alldata))\n",
    "labels = np.load('Data/labels-resnet50-all--modern_office31.npy', allow_pickle=True)\n",
    "\n",
    "\n",
    "alllabels = [labels[len(alldata[1]):3608], labels[:len(alldata[0])],\n",
    "                 labels[len(alldata[0]):(len(alldata[0]) + 793)]]\n",
    "ylabels1 = []\n",
    "\n",
    "    # Convert each one-hot encoded array to labels and append them to the list\n",
    "for array in alllabels:\n",
    "    labels = np.argmax(array, axis=1)\n",
    "    ylabels1.append(labels)\n",
    "alllabels = ylabels1\n",
    "alllabels"
   ]
  },
  {
   "cell_type": "code",
   "execution_count": 31,
   "metadata": {},
   "outputs": [
    {
     "name": "stdout",
     "output_type": "stream",
     "text": [
      "(349, 256)\n",
      "(236, 256)\n",
      "(160, 256)\n"
     ]
    }
   ],
   "source": [
    "import os\n",
    "import json\n",
    "import random \n",
    "\n",
    "def extract_pressure_matrices(json_data):\n",
    "    pressure_matrices = []\n",
    "    for entry in json_data['pressureData']:\n",
    "        pressure_matrix = entry[\"pressureMatrix\"]\n",
    "        pressure_matrices.append({\"pressureMatrix\": pressure_matrix})\n",
    "    return pressure_matrices\n",
    "\n",
    "def extract_features_from_pressure_matrices(pressure_matrices):\n",
    "    \n",
    "    flattened_data = [np.array(item[\"pressureMatrix\"]).reshape(1,-1) for item in pressure_matrices]\n",
    "    #print(flattened_data[0].shape)\n",
    "    return np.concatenate(flattened_data, axis=0)\n",
    "dic = {}\n",
    "lab = {}\n",
    "\n",
    "# Loop through subjects\n",
    "for i in range(6, 9):\n",
    "    \n",
    "    folder_path = f'data/Subject_{i}/Posture_data'\n",
    "\n",
    "    # Get all files in the folder\n",
    "    files = [f for f in os.listdir(folder_path) if os.path.isfile(os.path.join(folder_path, f))]\n",
    "    \n",
    "    l = []  # List to store feature arrays\n",
    "     # List to store labels\n",
    "    labels_list = []\n",
    "    for f in files:\n",
    "        x = int(f.split('.')[0][-1])  # Extract label from filename\n",
    "        file_path = os.path.join(folder_path, f)\n",
    "        \n",
    "        # Check if the file is a JSON file\n",
    "        if file_path.endswith('.json'):\n",
    "            with open(file_path, 'r') as file:\n",
    "                try:\n",
    "                    data = json.load(file) \n",
    "                    pressure_matrices = extract_pressure_matrices(data)\n",
    "                    features = extract_features_from_pressure_matrices(pressure_matrices)\n",
    "                    l.append(features)\n",
    "                    \n",
    "                    # Create label array with 1 at index x\n",
    "                    label_array = np.zeros((features.shape[0], 7))\n",
    "                    label_array[:, x-1] = 1\n",
    "                    labels_list.append(label_array)\n",
    "                except json.JSONDecodeError as e:\n",
    "                    print(f\"Error decoding JSON in file {file_path}: {e}\")\n",
    "        else:\n",
    "            print(f\"Skipping non-JSON file: {file_path}\")\n",
    "    num = list(range(7))\n",
    "    random.shuffle(num)\n",
    "    \n",
    "    dic[i] = np.concatenate([l[j] for j in num], axis=0)\n",
    "    print(dic[i].shape)\n",
    "    lab[i] = np.concatenate(labels_list,axis = 0)\n"
   ]
  },
  {
   "cell_type": "code",
   "execution_count": 34,
   "metadata": {},
   "outputs": [
    {
     "data": {
      "text/plain": [
       "[(349, 256), (236, 256), (160, 256)]"
      ]
     },
     "execution_count": 34,
     "metadata": {},
     "output_type": "execute_result"
    }
   ],
   "source": [
    "[i.shape for i in list(dic.values())]"
   ]
  },
  {
   "cell_type": "code",
   "execution_count": 37,
   "metadata": {},
   "outputs": [],
   "source": [
    "with open ('Results/labels_dic.pkl','rb') as file:\n",
    "        lab = pickle.load(file) \n",
    "labels = list(lab.values())"
   ]
  },
  {
   "cell_type": "code",
   "execution_count": 38,
   "metadata": {},
   "outputs": [
    {
     "data": {
      "text/plain": [
       "[array([[0., 0., 0., ..., 0., 0., 0.],\n",
       "        [0., 0., 0., ..., 0., 0., 0.],\n",
       "        [0., 0., 0., ..., 0., 0., 0.],\n",
       "        ...,\n",
       "        [0., 0., 0., ..., 0., 0., 1.],\n",
       "        [0., 0., 0., ..., 0., 0., 1.],\n",
       "        [0., 0., 0., ..., 0., 0., 1.]]),\n",
       " array([[0., 0., 0., ..., 0., 0., 0.],\n",
       "        [0., 0., 0., ..., 0., 0., 0.],\n",
       "        [0., 0., 0., ..., 0., 0., 0.],\n",
       "        ...,\n",
       "        [0., 0., 0., ..., 0., 0., 1.],\n",
       "        [0., 0., 0., ..., 0., 0., 1.],\n",
       "        [0., 0., 0., ..., 0., 0., 1.]]),\n",
       " array([[0., 0., 0., ..., 0., 0., 0.],\n",
       "        [0., 0., 0., ..., 0., 0., 0.],\n",
       "        [0., 0., 0., ..., 0., 0., 0.],\n",
       "        ...,\n",
       "        [0., 0., 0., ..., 0., 0., 1.],\n",
       "        [0., 0., 0., ..., 0., 0., 1.],\n",
       "        [0., 0., 0., ..., 0., 0., 1.]])]"
      ]
     },
     "execution_count": 38,
     "metadata": {},
     "output_type": "execute_result"
    }
   ],
   "source": [
    "labels"
   ]
  },
  {
   "cell_type": "code",
   "execution_count": null,
   "metadata": {},
   "outputs": [],
   "source": []
  }
 ],
 "metadata": {
  "kernelspec": {
   "display_name": "Python 3",
   "language": "python",
   "name": "python3"
  },
  "language_info": {
   "codemirror_mode": {
    "name": "ipython",
    "version": 3
   },
   "file_extension": ".py",
   "mimetype": "text/x-python",
   "name": "python",
   "nbconvert_exporter": "python",
   "pygments_lexer": "ipython3",
   "version": "3.8.10"
  }
 },
 "nbformat": 4,
 "nbformat_minor": 2
}
