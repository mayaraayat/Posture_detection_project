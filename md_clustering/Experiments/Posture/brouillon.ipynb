{
 "cells": [
  {
   "cell_type": "code",
   "execution_count": 1,
   "metadata": {},
   "outputs": [
    {
     "name": "stdout",
     "output_type": "stream",
     "text": [
      "brouillon.ipynb  data  Evaluation.py  main.py\n"
     ]
    }
   ],
   "source": [
    "!ls"
   ]
  },
  {
   "cell_type": "code",
   "execution_count": 14,
   "metadata": {},
   "outputs": [],
   "source": [
    "import os\n",
    "import json \n",
    "import numpy as np \n",
    "import random\n"
   ]
  },
  {
   "cell_type": "code",
   "execution_count": 3,
   "metadata": {},
   "outputs": [],
   "source": [
    "def load_json_data(file_path):\n",
    "    with open(file_path, 'r') as file:\n",
    "        data = json.load(file)\n",
    "    return data\n",
    "\n",
    "def extract_pressure_matrices(json_data):\n",
    "    pressure_matrices = []\n",
    "    for entry in json_data['pressureData']:\n",
    "        pressure_matrix = entry[\"pressureMatrix\"]\n",
    "        pressure_matrices.append({\"pressureMatrix\": pressure_matrix})\n",
    "    return pressure_matrices\n",
    "\n",
    "def extract_features_from_pressure_matrices(pressure_matrices):\n",
    "    flattened_data = [np.array(item[\"pressureMatrix\"]).flatten() for item in pressure_matrices]\n",
    "    return np.concatenate(flattened_data, axis=0)"
   ]
  },
  {
   "cell_type": "code",
   "execution_count": 16,
   "metadata": {},
   "outputs": [],
   "source": [
    "dic = {}\n",
    "lab = {}\n",
    "for i in range(6,9):\n",
    "    folder_path = f'data/Subject_{i}/Posture_data'\n",
    "\n",
    "    # Get all files in the folder\n",
    "    files = [f for f in os.listdir(folder_path) if os.path.isfile(os.path.join(folder_path, f))]\n",
    "    labels = [int(f.split('.')[0][-1])for f in files]\n",
    "    l = []\n",
    "\n",
    "    for f in files:\n",
    "        file_path = os.path.join(folder_path, f)\n",
    "        # Check if the file is a JSON file\n",
    "        if file_path.endswith('.json'):\n",
    "            with open(file_path, 'r') as file:\n",
    "                try:\n",
    "                    data = json.load(file) \n",
    "                    pressure_matrices = extract_pressure_matrices(data)\n",
    "                    features = extract_features_from_pressure_matrices(pressure_matrices)\n",
    "                    l.append(features)\n",
    "                except json.JSONDecodeError as e:\n",
    "                    print(f\"Error decoding JSON in file {file_path}: {e}\")\n",
    "        else:\n",
    "            print(f\"Skipping non-JSON file: {file_path}\")\n",
    "     \n",
    "    num = list(range(7))\n",
    "    random.shuffle(num)\n",
    "    \n",
    "    dic[i] = [l[j] for j in num]\n",
    "    lab[i] = [labels[j] for j in num]\n"
   ]
  },
  {
   "cell_type": "code",
   "execution_count": 17,
   "metadata": {},
   "outputs": [
    {
     "data": {
      "text/plain": [
       "{6: [array([193., 107., 293., ...,   4.,   3.,   2.]),\n",
       "  array([4., 4., 4., ..., 3., 0., 0.]),\n",
       "  array([ 86., 114., 127., ..., 192.,   5.,   2.]),\n",
       "  array([14., 11., 20., ...,  3.,  0.,  0.]),\n",
       "  array([ 33.,  97., 111., ..., 358.,  30.,  23.]),\n",
       "  array([  7.,  26., 225., ...,   2.,   0.,   2.]),\n",
       "  array([3., 3., 3., ..., 3., 2., 0.])],\n",
       " 7: [array([ 10., 270., 379., ...,   2.,   0.,   0.]),\n",
       "  array([131., 187., 160., ...,   3.,   2.,   0.]),\n",
       "  array([278., 292., 326., ...,   0.,   0.,   0.]),\n",
       "  array([4., 7., 8., ..., 2., 0., 0.]),\n",
       "  array([ 13., 222., 304., ...,   9.,   4.,   0.]),\n",
       "  array([388., 401., 411., ...,   0.,   0.,   0.]),\n",
       "  array([ 8.,  8.,  8., ..., 43.,  8.,  2.])],\n",
       " 8: [array([  0.,   2.,   4., ..., 234., 184., 185.]),\n",
       "  array([  6.,  13., 124., ...,  11.,   8.,   5.]),\n",
       "  array([  7.,  10.,  16., ..., 212., 147., 131.]),\n",
       "  array([ 10.,  12., 177., ...,   8.,   6.,   7.]),\n",
       "  array([  4.,   4.,  12., ..., 164.,  49.,  24.]),\n",
       "  array([ 13.,   8., 100., ..., 184.,  48.,  24.]),\n",
       "  array([2., 6., 9., ..., 9., 4., 5.])],\n",
       " 9: [array([ 28.,  84., 214., ..., 652., 263.,   6.]),\n",
       "  array([  7.,  16.,  12., ..., 238.,  15.,   3.]),\n",
       "  array([ 28.,  35.,  85., ..., 348.,  21.,   2.]),\n",
       "  array([ 34.,  81., 153., ...,  11.,   4.,   2.]),\n",
       "  array([ 90., 409., 201., ..., 615., 219.,   5.]),\n",
       "  array([ 40., 109.,  42., ..., 259.,  37.,   8.]),\n",
       "  array([11., 29.,  9., ..., 26.,  6.,  3.])]}"
      ]
     },
     "execution_count": 17,
     "metadata": {},
     "output_type": "execute_result"
    }
   ],
   "source": [
    "dic"
   ]
  },
  {
   "cell_type": "code",
   "execution_count": null,
   "metadata": {},
   "outputs": [],
   "source": []
  }
 ],
 "metadata": {
  "kernelspec": {
   "display_name": "Python 3",
   "language": "python",
   "name": "python3"
  },
  "language_info": {
   "codemirror_mode": {
    "name": "ipython",
    "version": 3
   },
   "file_extension": ".py",
   "mimetype": "text/x-python",
   "name": "python",
   "nbconvert_exporter": "python",
   "pygments_lexer": "ipython3",
   "version": "3.8.10"
  }
 },
 "nbformat": 4,
 "nbformat_minor": 2
}
