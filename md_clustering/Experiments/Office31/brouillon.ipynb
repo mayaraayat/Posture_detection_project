{
 "cells": [
  {
   "cell_type": "code",
   "execution_count": 1,
   "metadata": {},
   "outputs": [],
   "source": [
    "import numpy as np\n",
    "features = np.load('Data/resnet50-all--modern_office31.npy', allow_pickle=True)\n"
   ]
  },
  {
   "cell_type": "code",
   "execution_count": 11,
   "metadata": {},
   "outputs": [
    {
     "data": {
      "text/plain": [
       "array([array([[0.04009399, 0.11124405, 0.87550896, ..., 0.20393732, 0.4629913 ,\n",
       "               0.12172365],\n",
       "              [0.        , 0.05338797, 0.05549291, ..., 0.5854763 , 0.44671848,\n",
       "               0.        ],\n",
       "              [0.        , 0.15694532, 0.01082188, ..., 0.76134664, 0.35578296,\n",
       "               0.        ],\n",
       "              ...,\n",
       "              [0.01364302, 0.01006648, 0.0513595 , ..., 0.10517827, 1.5931052 ,\n",
       "               0.0163384 ],\n",
       "              [0.00610922, 0.        , 0.8894096 , ..., 1.950121  , 0.51962966,\n",
       "               0.        ],\n",
       "              [0.6361439 , 0.03339517, 0.        , ..., 3.506126  , 0.06407397,\n",
       "               0.3294362 ]], dtype=float32)                                    ,\n",
       "       array([[0.01947382, 0.27382228, 0.2777681 , ..., 0.01811878, 0.3734175 ,\n",
       "               0.        ],\n",
       "              [0.5110047 , 0.12335701, 0.5746149 , ..., 3.515151  , 1.0342144 ,\n",
       "               0.02006049],\n",
       "              [0.08016294, 0.31615242, 0.01023116, ..., 0.13934979, 0.5661908 ,\n",
       "               0.        ],\n",
       "              ...,\n",
       "              [0.03557239, 0.24222596, 0.02103959, ..., 1.4168334 , 0.4607531 ,\n",
       "               0.04911262],\n",
       "              [0.01065689, 0.        , 0.        , ..., 0.10547365, 1.008892  ,\n",
       "               0.07192965],\n",
       "              [0.43513435, 0.08182877, 0.2993603 , ..., 0.5356484 , 0.15234457,\n",
       "               1.1183935 ]], dtype=float32)                                    ,\n",
       "       array([[0.15208605, 0.        , 0.02304217, ..., 0.        , 0.47537014,\n",
       "               0.00712324],\n",
       "              [0.02025067, 0.35989228, 0.44986662, ..., 0.        , 0.08971965,\n",
       "               0.        ],\n",
       "              [0.02271157, 0.01284145, 0.01876341, ..., 0.04718647, 0.27358702,\n",
       "               0.        ],\n",
       "              ...,\n",
       "              [0.1656853 , 0.01578891, 0.6232918 , ..., 0.1787892 , 0.7069334 ,\n",
       "               0.8501031 ],\n",
       "              [0.00471528, 0.0458872 , 0.71339375, ..., 0.0591897 , 0.04078288,\n",
       "               0.22084838],\n",
       "              [0.21713331, 0.        , 0.1715912 , ..., 0.01772614, 0.15881781,\n",
       "               1.3012748 ]], dtype=float32)                                    ],\n",
       "      dtype=object)"
      ]
     },
     "execution_count": 11,
     "metadata": {},
     "output_type": "execute_result"
    }
   ],
   "source": [
    "features"
   ]
  },
  {
   "cell_type": "code",
   "execution_count": 16,
   "metadata": {},
   "outputs": [
    {
     "data": {
      "text/plain": [
       "True"
      ]
     },
     "execution_count": 16,
     "metadata": {},
     "output_type": "execute_result"
    }
   ],
   "source": [
    "type(features.tolist()) == list"
   ]
  },
  {
   "cell_type": "code",
   "execution_count": 4,
   "metadata": {},
   "outputs": [
    {
     "data": {
      "text/plain": [
       "(3,)"
      ]
     },
     "execution_count": 4,
     "metadata": {},
     "output_type": "execute_result"
    }
   ],
   "source": [
    "features.shape"
   ]
  },
  {
   "cell_type": "code",
   "execution_count": 18,
   "metadata": {},
   "outputs": [
    {
     "name": "stdout",
     "output_type": "stream",
     "text": [
      "(496, 2048)\n",
      "(793, 2048)\n",
      "(2815, 2048)\n"
     ]
    }
   ],
   "source": [
    "for i in range(3):\n",
    "    print(features[i].shape\n",
    "          )"
   ]
  },
  {
   "cell_type": "code",
   "execution_count": 6,
   "metadata": {},
   "outputs": [],
   "source": [
    "import pickle\n",
    "with open ('Results/features_dic.pkl','rb') as file:\n",
    "    dic = pickle.load(file)"
   ]
  },
  {
   "cell_type": "code",
   "execution_count": 12,
   "metadata": {},
   "outputs": [],
   "source": [
    "l = list(dic.values())"
   ]
  },
  {
   "cell_type": "code",
   "execution_count": 19,
   "metadata": {},
   "outputs": [
    {
     "name": "stdout",
     "output_type": "stream",
     "text": [
      "(349, 256)\n",
      "(236, 256)\n",
      "(160, 256)\n"
     ]
    }
   ],
   "source": [
    "for i in range(3):\n",
    "    print(l[i].shape\n",
    "          )"
   ]
  },
  {
   "cell_type": "code",
   "execution_count": 20,
   "metadata": {},
   "outputs": [],
   "source": [
    "labels = np.load('Data/labels-resnet50-all--modern_office31.npy', allow_pickle=True)"
   ]
  },
  {
   "cell_type": "code",
   "execution_count": 22,
   "metadata": {},
   "outputs": [
    {
     "data": {
      "text/plain": [
       "(4104, 31)"
      ]
     },
     "execution_count": 22,
     "metadata": {},
     "output_type": "execute_result"
    }
   ],
   "source": [
    "labels.shape"
   ]
  },
  {
   "cell_type": "code",
   "execution_count": 26,
   "metadata": {},
   "outputs": [],
   "source": [
    "with open ('Results/labels_dic.pkl','rb') as file:\n",
    "        lab = pickle.load(file)\n",
    "labels = list(lab.values())\n"
   ]
  },
  {
   "cell_type": "code",
   "execution_count": 28,
   "metadata": {},
   "outputs": [],
   "source": [
    "arr = np.concatenate(labels, axis = 0 )"
   ]
  },
  {
   "cell_type": "code",
   "execution_count": 29,
   "metadata": {},
   "outputs": [
    {
     "data": {
      "text/plain": [
       "(745, 7)"
      ]
     },
     "execution_count": 29,
     "metadata": {},
     "output_type": "execute_result"
    }
   ],
   "source": [
    "arr.shape"
   ]
  },
  {
   "cell_type": "code",
   "execution_count": 3,
   "metadata": {},
   "outputs": [
    {
     "name": "stdout",
     "output_type": "stream",
     "text": [
      "(349, 256)\n",
      "(236, 256)\n",
      "(160, 256)\n"
     ]
    }
   ],
   "source": [
    "import os\n",
    "import json\n",
    "import random \n",
    "import numpy as np\n",
    "import pickle\n",
    "\n",
    "def extract_pressure_matrices(json_data):\n",
    "    pressure_matrices = []\n",
    "    for entry in json_data['pressureData']:\n",
    "        pressure_matrix = entry[\"pressureMatrix\"]\n",
    "        pressure_matrices.append({\"pressureMatrix\": pressure_matrix})\n",
    "    return pressure_matrices\n",
    "\n",
    "def extract_features_from_pressure_matrices(pressure_matrices):\n",
    "    \n",
    "    flattened_data = [np.array(item[\"pressureMatrix\"]).reshape(1,-1) for item in pressure_matrices]\n",
    "    #print(flattened_data[0].shape)\n",
    "    return np.concatenate(flattened_data, axis=0)\n",
    "dic = {}\n",
    "lab = {}\n",
    "\n",
    "# Loop through subjects\n",
    "for i in [6,7,8]:\n",
    "    \n",
    "    folder_path = f'data/Subject_{i}/Posture_data'\n",
    "\n",
    "    # Get all files in the folder\n",
    "    files = [f for f in os.listdir(folder_path) if os.path.isfile(os.path.join(folder_path, f))]\n",
    "    \n",
    "    l = []  # List to store feature arrays\n",
    "     # List to store labels\n",
    "    labels_list = []\n",
    "    for f in files:\n",
    "        x = int(f.split('.')[0][-1])  # Extract label from filename\n",
    "        file_path = os.path.join(folder_path, f)\n",
    "        \n",
    "        # Check if the file is a JSON file\n",
    "        if file_path.endswith('.json'):\n",
    "            with open(file_path, 'r') as file:\n",
    "                try:\n",
    "                    data = json.load(file) \n",
    "                    pressure_matrices = extract_pressure_matrices(data)\n",
    "                    features = extract_features_from_pressure_matrices(pressure_matrices)\n",
    "                    l.append(features)\n",
    "                    \n",
    "                    # Create label array with 1 at index x\n",
    "                    label_array = np.zeros((features.shape[0], 7))\n",
    "                    label_array[:, x-1] = 1\n",
    "                    labels_list.append(label_array)\n",
    "                    \n",
    "                except json.JSONDecodeError as e:\n",
    "                    print(f\"Error decoding JSON in file {file_path}: {e}\")\n",
    "        else:\n",
    "            print(f\"Skipping non-JSON file: {file_path}\")\n",
    "    num = list(range(7))\n",
    "    random.shuffle(num)\n",
    "    \n",
    "    dic[i] = np.concatenate([l[j] for j in num], axis=0)\n",
    "    print(dic[i].shape)\n",
    "    lab[i] = np.concatenate([labels_list[j] for j in num],axis = 0)\n",
    "for i in dic.keys():\n",
    "    \n",
    "    index = list(range(dic[i].shape[0]))\n",
    "    random.shuffle(index)\n",
    "    dic[i] = dic[i][index,:]\n",
    "    lab[i] = lab[i][index,:]\n",
    "\n",
    "with open ('Results/features_dic_6789.pkl','wb') as file:\n",
    "    pickle.dump(dic,file)\n",
    "\n",
    "with open ('Results/labels_dic_6789.pkl','wb') as file:\n",
    "    pickle.dump(lab,file)"
   ]
  },
  {
   "cell_type": "code",
   "execution_count": 6,
   "metadata": {},
   "outputs": [
    {
     "data": {
      "text/plain": [
       "array([[0., 0., 0., ..., 0., 0., 1.],\n",
       "       [0., 0., 0., ..., 0., 0., 1.],\n",
       "       [0., 0., 0., ..., 0., 0., 1.],\n",
       "       ...,\n",
       "       [0., 0., 0., ..., 0., 1., 0.],\n",
       "       [0., 0., 0., ..., 0., 1., 0.],\n",
       "       [0., 0., 0., ..., 0., 1., 0.]])"
      ]
     },
     "execution_count": 6,
     "metadata": {},
     "output_type": "execute_result"
    }
   ],
   "source": [
    "lab[6]"
   ]
  },
  {
   "cell_type": "code",
   "execution_count": 5,
   "metadata": {},
   "outputs": [
    {
     "data": {
      "text/plain": [
       "(349, 256)"
      ]
     },
     "execution_count": 5,
     "metadata": {},
     "output_type": "execute_result"
    }
   ],
   "source": [
    "dic[6].shape"
   ]
  },
  {
   "cell_type": "code",
   "execution_count": 10,
   "metadata": {},
   "outputs": [],
   "source": [
    "for i in dic.keys():\n",
    "    \n",
    "    index = list(range(dic[i].shape[0]))\n",
    "    random.shuffle(index)\n",
    "    dic[i] = dic[i][index,:]\n",
    "    lab[i] = lab[i][index,:]\n",
    "    "
   ]
  },
  {
   "cell_type": "code",
   "execution_count": 12,
   "metadata": {},
   "outputs": [],
   "source": [
    "with open ('Results/features_dic_6_8shuffle.pkl','wb') as file:\n",
    "    pickle.dump(dic,file)\n",
    "\n",
    "with open ('Results/labels_dic_6_8shuffle.pkl','wb') as file:\n",
    "    pickle.dump(lab,file)"
   ]
  },
  {
   "cell_type": "code",
   "execution_count": 13,
   "metadata": {},
   "outputs": [
    {
     "data": {
      "text/plain": [
       "array([[0., 1., 0., ..., 0., 0., 0.],\n",
       "       [0., 0., 0., ..., 0., 0., 1.],\n",
       "       [0., 0., 1., ..., 0., 0., 0.],\n",
       "       ...,\n",
       "       [0., 0., 1., ..., 0., 0., 0.],\n",
       "       [0., 1., 0., ..., 0., 0., 0.],\n",
       "       [1., 0., 0., ..., 0., 0., 0.]])"
      ]
     },
     "execution_count": 13,
     "metadata": {},
     "output_type": "execute_result"
    }
   ],
   "source": [
    "lab[6]"
   ]
  },
  {
   "cell_type": "code",
   "execution_count": 14,
   "metadata": {},
   "outputs": [
    {
     "data": {
      "text/plain": [
       "array([[1., 0., 0., ..., 0., 0., 0.],\n",
       "       [0., 0., 1., ..., 0., 0., 0.],\n",
       "       [0., 1., 0., ..., 0., 0., 0.],\n",
       "       ...,\n",
       "       [0., 0., 0., ..., 1., 0., 0.],\n",
       "       [0., 0., 0., ..., 0., 1., 0.],\n",
       "       [1., 0., 0., ..., 0., 0., 0.]])"
      ]
     },
     "execution_count": 14,
     "metadata": {},
     "output_type": "execute_result"
    }
   ],
   "source": [
    "lab[7]"
   ]
  },
  {
   "cell_type": "code",
   "execution_count": null,
   "metadata": {},
   "outputs": [],
   "source": []
  }
 ],
 "metadata": {
  "kernelspec": {
   "display_name": "Python 3",
   "language": "python",
   "name": "python3"
  },
  "language_info": {
   "codemirror_mode": {
    "name": "ipython",
    "version": 3
   },
   "file_extension": ".py",
   "mimetype": "text/x-python",
   "name": "python",
   "nbconvert_exporter": "python",
   "pygments_lexer": "ipython3",
   "version": "3.8.10"
  }
 },
 "nbformat": 4,
 "nbformat_minor": 2
}
